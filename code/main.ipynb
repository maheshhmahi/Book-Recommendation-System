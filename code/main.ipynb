{
 "cells": [
  {
   "cell_type": "code",
   "execution_count": 226,
   "metadata": {},
   "outputs": [],
   "source": [
    "import pandas as pd\n",
    "import numpy as np\n",
    "\n",
    "\n",
    "## Reading data: Books, Ratings, Users\n",
    "books = pd.read_csv(\"../data/Books.csv\", sep=',', dtype='unicode')\n",
    "ratings = pd.read_csv(\"../data/Ratings.csv\", sep=',', dtype='unicode')\n",
    "users = pd.read_csv(\"../data/Users.csv\", sep=',', dtype='unicode')\n"
   ]
  },
  {
   "cell_type": "code",
   "execution_count": 227,
   "metadata": {},
   "outputs": [
    {
     "data": {
      "text/html": [
       "<div>\n",
       "<style scoped>\n",
       "    .dataframe tbody tr th:only-of-type {\n",
       "        vertical-align: middle;\n",
       "    }\n",
       "\n",
       "    .dataframe tbody tr th {\n",
       "        vertical-align: top;\n",
       "    }\n",
       "\n",
       "    .dataframe thead th {\n",
       "        text-align: right;\n",
       "    }\n",
       "</style>\n",
       "<table border=\"1\" class=\"dataframe\">\n",
       "  <thead>\n",
       "    <tr style=\"text-align: right;\">\n",
       "      <th></th>\n",
       "      <th>ISBN</th>\n",
       "      <th>Book-Title</th>\n",
       "      <th>Book-Author</th>\n",
       "      <th>Year-Of-Publication</th>\n",
       "      <th>Publisher</th>\n",
       "      <th>Image-URL-S</th>\n",
       "      <th>Image-URL-M</th>\n",
       "      <th>Image-URL-L</th>\n",
       "    </tr>\n",
       "  </thead>\n",
       "  <tbody>\n",
       "    <tr>\n",
       "      <th>0</th>\n",
       "      <td>0195153448</td>\n",
       "      <td>Classical Mythology</td>\n",
       "      <td>Mark P. O. Morford</td>\n",
       "      <td>2002</td>\n",
       "      <td>Oxford University Press</td>\n",
       "      <td>http://images.amazon.com/images/P/0195153448.01.THUMBZZZ.jpg</td>\n",
       "      <td>http://images.amazon.com/images/P/0195153448.01.MZZZZZZZ.jpg</td>\n",
       "      <td>http://images.amazon.com/images/P/0195153448.01.LZZZZZZZ.jpg</td>\n",
       "    </tr>\n",
       "    <tr>\n",
       "      <th>1</th>\n",
       "      <td>0002005018</td>\n",
       "      <td>Clara Callan</td>\n",
       "      <td>Richard Bruce Wright</td>\n",
       "      <td>2001</td>\n",
       "      <td>HarperFlamingo Canada</td>\n",
       "      <td>http://images.amazon.com/images/P/0002005018.01.THUMBZZZ.jpg</td>\n",
       "      <td>http://images.amazon.com/images/P/0002005018.01.MZZZZZZZ.jpg</td>\n",
       "      <td>http://images.amazon.com/images/P/0002005018.01.LZZZZZZZ.jpg</td>\n",
       "    </tr>\n",
       "    <tr>\n",
       "      <th>2</th>\n",
       "      <td>0060973129</td>\n",
       "      <td>Decision in Normandy</td>\n",
       "      <td>Carlo D'Este</td>\n",
       "      <td>1991</td>\n",
       "      <td>HarperPerennial</td>\n",
       "      <td>http://images.amazon.com/images/P/0060973129.01.THUMBZZZ.jpg</td>\n",
       "      <td>http://images.amazon.com/images/P/0060973129.01.MZZZZZZZ.jpg</td>\n",
       "      <td>http://images.amazon.com/images/P/0060973129.01.LZZZZZZZ.jpg</td>\n",
       "    </tr>\n",
       "    <tr>\n",
       "      <th>3</th>\n",
       "      <td>0374157065</td>\n",
       "      <td>Flu: The Story of the Great Influenza Pandemic of 1918 and the Search for the Virus That Caused It</td>\n",
       "      <td>Gina Bari Kolata</td>\n",
       "      <td>1999</td>\n",
       "      <td>Farrar Straus Giroux</td>\n",
       "      <td>http://images.amazon.com/images/P/0374157065.01.THUMBZZZ.jpg</td>\n",
       "      <td>http://images.amazon.com/images/P/0374157065.01.MZZZZZZZ.jpg</td>\n",
       "      <td>http://images.amazon.com/images/P/0374157065.01.LZZZZZZZ.jpg</td>\n",
       "    </tr>\n",
       "    <tr>\n",
       "      <th>4</th>\n",
       "      <td>0393045218</td>\n",
       "      <td>The Mummies of Urumchi</td>\n",
       "      <td>E. J. W. Barber</td>\n",
       "      <td>1999</td>\n",
       "      <td>W. W. Norton &amp;amp; Company</td>\n",
       "      <td>http://images.amazon.com/images/P/0393045218.01.THUMBZZZ.jpg</td>\n",
       "      <td>http://images.amazon.com/images/P/0393045218.01.MZZZZZZZ.jpg</td>\n",
       "      <td>http://images.amazon.com/images/P/0393045218.01.LZZZZZZZ.jpg</td>\n",
       "    </tr>\n",
       "  </tbody>\n",
       "</table>\n",
       "</div>"
      ],
      "text/plain": [
       "         ISBN  \\\n",
       "0  0195153448   \n",
       "1  0002005018   \n",
       "2  0060973129   \n",
       "3  0374157065   \n",
       "4  0393045218   \n",
       "\n",
       "                                                                                           Book-Title  \\\n",
       "0                                                                                 Classical Mythology   \n",
       "1                                                                                        Clara Callan   \n",
       "2                                                                                Decision in Normandy   \n",
       "3  Flu: The Story of the Great Influenza Pandemic of 1918 and the Search for the Virus That Caused It   \n",
       "4                                                                              The Mummies of Urumchi   \n",
       "\n",
       "            Book-Author Year-Of-Publication                   Publisher  \\\n",
       "0    Mark P. O. Morford                2002     Oxford University Press   \n",
       "1  Richard Bruce Wright                2001       HarperFlamingo Canada   \n",
       "2          Carlo D'Este                1991             HarperPerennial   \n",
       "3      Gina Bari Kolata                1999        Farrar Straus Giroux   \n",
       "4       E. J. W. Barber                1999  W. W. Norton &amp; Company   \n",
       "\n",
       "                                                    Image-URL-S  \\\n",
       "0  http://images.amazon.com/images/P/0195153448.01.THUMBZZZ.jpg   \n",
       "1  http://images.amazon.com/images/P/0002005018.01.THUMBZZZ.jpg   \n",
       "2  http://images.amazon.com/images/P/0060973129.01.THUMBZZZ.jpg   \n",
       "3  http://images.amazon.com/images/P/0374157065.01.THUMBZZZ.jpg   \n",
       "4  http://images.amazon.com/images/P/0393045218.01.THUMBZZZ.jpg   \n",
       "\n",
       "                                                    Image-URL-M  \\\n",
       "0  http://images.amazon.com/images/P/0195153448.01.MZZZZZZZ.jpg   \n",
       "1  http://images.amazon.com/images/P/0002005018.01.MZZZZZZZ.jpg   \n",
       "2  http://images.amazon.com/images/P/0060973129.01.MZZZZZZZ.jpg   \n",
       "3  http://images.amazon.com/images/P/0374157065.01.MZZZZZZZ.jpg   \n",
       "4  http://images.amazon.com/images/P/0393045218.01.MZZZZZZZ.jpg   \n",
       "\n",
       "                                                    Image-URL-L  \n",
       "0  http://images.amazon.com/images/P/0195153448.01.LZZZZZZZ.jpg  \n",
       "1  http://images.amazon.com/images/P/0002005018.01.LZZZZZZZ.jpg  \n",
       "2  http://images.amazon.com/images/P/0060973129.01.LZZZZZZZ.jpg  \n",
       "3  http://images.amazon.com/images/P/0374157065.01.LZZZZZZZ.jpg  \n",
       "4  http://images.amazon.com/images/P/0393045218.01.LZZZZZZZ.jpg  "
      ]
     },
     "execution_count": 227,
     "metadata": {},
     "output_type": "execute_result"
    }
   ],
   "source": [
    "## Books Data\n",
    "books.head()"
   ]
  },
  {
   "cell_type": "code",
   "execution_count": 228,
   "metadata": {},
   "outputs": [
    {
     "data": {
      "text/plain": [
       "(271360, 8)"
      ]
     },
     "execution_count": 228,
     "metadata": {},
     "output_type": "execute_result"
    }
   ],
   "source": [
    "books.shape"
   ]
  },
  {
   "cell_type": "code",
   "execution_count": 229,
   "metadata": {},
   "outputs": [
    {
     "name": "stdout",
     "output_type": "stream",
     "text": [
      "<class 'pandas.core.frame.DataFrame'>\n",
      "RangeIndex: 271360 entries, 0 to 271359\n",
      "Data columns (total 8 columns):\n",
      " #   Column               Non-Null Count   Dtype \n",
      "---  ------               --------------   ----- \n",
      " 0   ISBN                 271360 non-null  object\n",
      " 1   Book-Title           271360 non-null  object\n",
      " 2   Book-Author          271358 non-null  object\n",
      " 3   Year-Of-Publication  271360 non-null  object\n",
      " 4   Publisher            271358 non-null  object\n",
      " 5   Image-URL-S          271360 non-null  object\n",
      " 6   Image-URL-M          271360 non-null  object\n",
      " 7   Image-URL-L          271357 non-null  object\n",
      "dtypes: object(8)\n",
      "memory usage: 16.6+ MB\n"
     ]
    }
   ],
   "source": [
    "books.info()"
   ]
  },
  {
   "cell_type": "code",
   "execution_count": 230,
   "metadata": {},
   "outputs": [],
   "source": [
    "#Since I will be using only Image-URL-L to display in the UI, I shall delete the other S and M images\n",
    "# books.drop([\"Image-URL-S\", \"Image-URL-M\"], axis = 1, inplace=True)"
   ]
  },
  {
   "cell_type": "code",
   "execution_count": 231,
   "metadata": {},
   "outputs": [
    {
     "data": {
      "text/html": [
       "<div>\n",
       "<style scoped>\n",
       "    .dataframe tbody tr th:only-of-type {\n",
       "        vertical-align: middle;\n",
       "    }\n",
       "\n",
       "    .dataframe tbody tr th {\n",
       "        vertical-align: top;\n",
       "    }\n",
       "\n",
       "    .dataframe thead th {\n",
       "        text-align: right;\n",
       "    }\n",
       "</style>\n",
       "<table border=\"1\" class=\"dataframe\">\n",
       "  <thead>\n",
       "    <tr style=\"text-align: right;\">\n",
       "      <th></th>\n",
       "      <th>ISBN</th>\n",
       "      <th>Book-Title</th>\n",
       "      <th>Book-Author</th>\n",
       "      <th>Year-Of-Publication</th>\n",
       "      <th>Publisher</th>\n",
       "      <th>Image-URL-S</th>\n",
       "      <th>Image-URL-M</th>\n",
       "      <th>Image-URL-L</th>\n",
       "    </tr>\n",
       "  </thead>\n",
       "  <tbody>\n",
       "    <tr>\n",
       "      <th>0</th>\n",
       "      <td>0195153448</td>\n",
       "      <td>Classical Mythology</td>\n",
       "      <td>Mark P. O. Morford</td>\n",
       "      <td>2002</td>\n",
       "      <td>Oxford University Press</td>\n",
       "      <td>http://images.amazon.com/images/P/0195153448.01.THUMBZZZ.jpg</td>\n",
       "      <td>http://images.amazon.com/images/P/0195153448.01.MZZZZZZZ.jpg</td>\n",
       "      <td>http://images.amazon.com/images/P/0195153448.01.LZZZZZZZ.jpg</td>\n",
       "    </tr>\n",
       "    <tr>\n",
       "      <th>1</th>\n",
       "      <td>0002005018</td>\n",
       "      <td>Clara Callan</td>\n",
       "      <td>Richard Bruce Wright</td>\n",
       "      <td>2001</td>\n",
       "      <td>HarperFlamingo Canada</td>\n",
       "      <td>http://images.amazon.com/images/P/0002005018.01.THUMBZZZ.jpg</td>\n",
       "      <td>http://images.amazon.com/images/P/0002005018.01.MZZZZZZZ.jpg</td>\n",
       "      <td>http://images.amazon.com/images/P/0002005018.01.LZZZZZZZ.jpg</td>\n",
       "    </tr>\n",
       "    <tr>\n",
       "      <th>2</th>\n",
       "      <td>0060973129</td>\n",
       "      <td>Decision in Normandy</td>\n",
       "      <td>Carlo D'Este</td>\n",
       "      <td>1991</td>\n",
       "      <td>HarperPerennial</td>\n",
       "      <td>http://images.amazon.com/images/P/0060973129.01.THUMBZZZ.jpg</td>\n",
       "      <td>http://images.amazon.com/images/P/0060973129.01.MZZZZZZZ.jpg</td>\n",
       "      <td>http://images.amazon.com/images/P/0060973129.01.LZZZZZZZ.jpg</td>\n",
       "    </tr>\n",
       "    <tr>\n",
       "      <th>3</th>\n",
       "      <td>0374157065</td>\n",
       "      <td>Flu: The Story of the Great Influenza Pandemic of 1918 and the Search for the Virus That Caused It</td>\n",
       "      <td>Gina Bari Kolata</td>\n",
       "      <td>1999</td>\n",
       "      <td>Farrar Straus Giroux</td>\n",
       "      <td>http://images.amazon.com/images/P/0374157065.01.THUMBZZZ.jpg</td>\n",
       "      <td>http://images.amazon.com/images/P/0374157065.01.MZZZZZZZ.jpg</td>\n",
       "      <td>http://images.amazon.com/images/P/0374157065.01.LZZZZZZZ.jpg</td>\n",
       "    </tr>\n",
       "    <tr>\n",
       "      <th>4</th>\n",
       "      <td>0393045218</td>\n",
       "      <td>The Mummies of Urumchi</td>\n",
       "      <td>E. J. W. Barber</td>\n",
       "      <td>1999</td>\n",
       "      <td>W. W. Norton &amp;amp; Company</td>\n",
       "      <td>http://images.amazon.com/images/P/0393045218.01.THUMBZZZ.jpg</td>\n",
       "      <td>http://images.amazon.com/images/P/0393045218.01.MZZZZZZZ.jpg</td>\n",
       "      <td>http://images.amazon.com/images/P/0393045218.01.LZZZZZZZ.jpg</td>\n",
       "    </tr>\n",
       "  </tbody>\n",
       "</table>\n",
       "</div>"
      ],
      "text/plain": [
       "         ISBN  \\\n",
       "0  0195153448   \n",
       "1  0002005018   \n",
       "2  0060973129   \n",
       "3  0374157065   \n",
       "4  0393045218   \n",
       "\n",
       "                                                                                           Book-Title  \\\n",
       "0                                                                                 Classical Mythology   \n",
       "1                                                                                        Clara Callan   \n",
       "2                                                                                Decision in Normandy   \n",
       "3  Flu: The Story of the Great Influenza Pandemic of 1918 and the Search for the Virus That Caused It   \n",
       "4                                                                              The Mummies of Urumchi   \n",
       "\n",
       "            Book-Author Year-Of-Publication                   Publisher  \\\n",
       "0    Mark P. O. Morford                2002     Oxford University Press   \n",
       "1  Richard Bruce Wright                2001       HarperFlamingo Canada   \n",
       "2          Carlo D'Este                1991             HarperPerennial   \n",
       "3      Gina Bari Kolata                1999        Farrar Straus Giroux   \n",
       "4       E. J. W. Barber                1999  W. W. Norton &amp; Company   \n",
       "\n",
       "                                                    Image-URL-S  \\\n",
       "0  http://images.amazon.com/images/P/0195153448.01.THUMBZZZ.jpg   \n",
       "1  http://images.amazon.com/images/P/0002005018.01.THUMBZZZ.jpg   \n",
       "2  http://images.amazon.com/images/P/0060973129.01.THUMBZZZ.jpg   \n",
       "3  http://images.amazon.com/images/P/0374157065.01.THUMBZZZ.jpg   \n",
       "4  http://images.amazon.com/images/P/0393045218.01.THUMBZZZ.jpg   \n",
       "\n",
       "                                                    Image-URL-M  \\\n",
       "0  http://images.amazon.com/images/P/0195153448.01.MZZZZZZZ.jpg   \n",
       "1  http://images.amazon.com/images/P/0002005018.01.MZZZZZZZ.jpg   \n",
       "2  http://images.amazon.com/images/P/0060973129.01.MZZZZZZZ.jpg   \n",
       "3  http://images.amazon.com/images/P/0374157065.01.MZZZZZZZ.jpg   \n",
       "4  http://images.amazon.com/images/P/0393045218.01.MZZZZZZZ.jpg   \n",
       "\n",
       "                                                    Image-URL-L  \n",
       "0  http://images.amazon.com/images/P/0195153448.01.LZZZZZZZ.jpg  \n",
       "1  http://images.amazon.com/images/P/0002005018.01.LZZZZZZZ.jpg  \n",
       "2  http://images.amazon.com/images/P/0060973129.01.LZZZZZZZ.jpg  \n",
       "3  http://images.amazon.com/images/P/0374157065.01.LZZZZZZZ.jpg  \n",
       "4  http://images.amazon.com/images/P/0393045218.01.LZZZZZZZ.jpg  "
      ]
     },
     "execution_count": 231,
     "metadata": {},
     "output_type": "execute_result"
    }
   ],
   "source": [
    "books.head()"
   ]
  },
  {
   "cell_type": "code",
   "execution_count": 232,
   "metadata": {},
   "outputs": [
    {
     "data": {
      "text/plain": [
       "ISBN                   0\n",
       "Book-Title             0\n",
       "Book-Author            2\n",
       "Year-Of-Publication    0\n",
       "Publisher              2\n",
       "Image-URL-S            0\n",
       "Image-URL-M            0\n",
       "Image-URL-L            3\n",
       "dtype: int64"
      ]
     },
     "execution_count": 232,
     "metadata": {},
     "output_type": "execute_result"
    }
   ],
   "source": [
    "##Data cleaning\n",
    "\n",
    "### To check if there are any null values present in the data\n",
    "\n",
    "books.isna().sum()"
   ]
  },
  {
   "cell_type": "code",
   "execution_count": 233,
   "metadata": {},
   "outputs": [
    {
     "data": {
      "text/html": [
       "<div>\n",
       "<style scoped>\n",
       "    .dataframe tbody tr th:only-of-type {\n",
       "        vertical-align: middle;\n",
       "    }\n",
       "\n",
       "    .dataframe tbody tr th {\n",
       "        vertical-align: top;\n",
       "    }\n",
       "\n",
       "    .dataframe thead th {\n",
       "        text-align: right;\n",
       "    }\n",
       "</style>\n",
       "<table border=\"1\" class=\"dataframe\">\n",
       "  <thead>\n",
       "    <tr style=\"text-align: right;\">\n",
       "      <th></th>\n",
       "      <th>ISBN</th>\n",
       "      <th>Book-Title</th>\n",
       "      <th>Book-Author</th>\n",
       "      <th>Year-Of-Publication</th>\n",
       "      <th>Publisher</th>\n",
       "      <th>Image-URL-S</th>\n",
       "      <th>Image-URL-M</th>\n",
       "      <th>Image-URL-L</th>\n",
       "    </tr>\n",
       "  </thead>\n",
       "  <tbody>\n",
       "    <tr>\n",
       "      <th>118033</th>\n",
       "      <td>0751352497</td>\n",
       "      <td>A+ Quiz Masters:01 Earth</td>\n",
       "      <td>NaN</td>\n",
       "      <td>1999</td>\n",
       "      <td>Dorling Kindersley</td>\n",
       "      <td>http://images.amazon.com/images/P/0751352497.01.THUMBZZZ.jpg</td>\n",
       "      <td>http://images.amazon.com/images/P/0751352497.01.MZZZZZZZ.jpg</td>\n",
       "      <td>http://images.amazon.com/images/P/0751352497.01.LZZZZZZZ.jpg</td>\n",
       "    </tr>\n",
       "    <tr>\n",
       "      <th>187689</th>\n",
       "      <td>9627982032</td>\n",
       "      <td>The Credit Suisse Guide to Managing Your Personal Wealth</td>\n",
       "      <td>NaN</td>\n",
       "      <td>1995</td>\n",
       "      <td>Edinburgh Financial Publishing</td>\n",
       "      <td>http://images.amazon.com/images/P/9627982032.01.THUMBZZZ.jpg</td>\n",
       "      <td>http://images.amazon.com/images/P/9627982032.01.MZZZZZZZ.jpg</td>\n",
       "      <td>http://images.amazon.com/images/P/9627982032.01.LZZZZZZZ.jpg</td>\n",
       "    </tr>\n",
       "  </tbody>\n",
       "</table>\n",
       "</div>"
      ],
      "text/plain": [
       "              ISBN                                                Book-Title  \\\n",
       "118033  0751352497                                  A+ Quiz Masters:01 Earth   \n",
       "187689  9627982032  The Credit Suisse Guide to Managing Your Personal Wealth   \n",
       "\n",
       "       Book-Author Year-Of-Publication                       Publisher  \\\n",
       "118033         NaN                1999              Dorling Kindersley   \n",
       "187689         NaN                1995  Edinburgh Financial Publishing   \n",
       "\n",
       "                                                         Image-URL-S  \\\n",
       "118033  http://images.amazon.com/images/P/0751352497.01.THUMBZZZ.jpg   \n",
       "187689  http://images.amazon.com/images/P/9627982032.01.THUMBZZZ.jpg   \n",
       "\n",
       "                                                         Image-URL-M  \\\n",
       "118033  http://images.amazon.com/images/P/0751352497.01.MZZZZZZZ.jpg   \n",
       "187689  http://images.amazon.com/images/P/9627982032.01.MZZZZZZZ.jpg   \n",
       "\n",
       "                                                         Image-URL-L  \n",
       "118033  http://images.amazon.com/images/P/0751352497.01.LZZZZZZZ.jpg  \n",
       "187689  http://images.amazon.com/images/P/9627982032.01.LZZZZZZZ.jpg  "
      ]
     },
     "execution_count": 233,
     "metadata": {},
     "output_type": "execute_result"
    }
   ],
   "source": [
    "books.loc[books['Book-Author'].isna(), :]"
   ]
  },
  {
   "cell_type": "code",
   "execution_count": 234,
   "metadata": {},
   "outputs": [],
   "source": [
    "books.at[118033, 'Book-Author'] = 'Other'\n",
    "books.at[187689, 'Book-Author'] = 'Other'"
   ]
  },
  {
   "cell_type": "code",
   "execution_count": 235,
   "metadata": {},
   "outputs": [
    {
     "data": {
      "text/html": [
       "<div>\n",
       "<style scoped>\n",
       "    .dataframe tbody tr th:only-of-type {\n",
       "        vertical-align: middle;\n",
       "    }\n",
       "\n",
       "    .dataframe tbody tr th {\n",
       "        vertical-align: top;\n",
       "    }\n",
       "\n",
       "    .dataframe thead th {\n",
       "        text-align: right;\n",
       "    }\n",
       "</style>\n",
       "<table border=\"1\" class=\"dataframe\">\n",
       "  <thead>\n",
       "    <tr style=\"text-align: right;\">\n",
       "      <th></th>\n",
       "      <th>ISBN</th>\n",
       "      <th>Book-Title</th>\n",
       "      <th>Book-Author</th>\n",
       "      <th>Year-Of-Publication</th>\n",
       "      <th>Publisher</th>\n",
       "      <th>Image-URL-S</th>\n",
       "      <th>Image-URL-M</th>\n",
       "      <th>Image-URL-L</th>\n",
       "    </tr>\n",
       "  </thead>\n",
       "  <tbody>\n",
       "    <tr>\n",
       "      <th>118033</th>\n",
       "      <td>0751352497</td>\n",
       "      <td>A+ Quiz Masters:01 Earth</td>\n",
       "      <td>Other</td>\n",
       "      <td>1999</td>\n",
       "      <td>Dorling Kindersley</td>\n",
       "      <td>http://images.amazon.com/images/P/0751352497.01.THUMBZZZ.jpg</td>\n",
       "      <td>http://images.amazon.com/images/P/0751352497.01.MZZZZZZZ.jpg</td>\n",
       "      <td>http://images.amazon.com/images/P/0751352497.01.LZZZZZZZ.jpg</td>\n",
       "    </tr>\n",
       "    <tr>\n",
       "      <th>187689</th>\n",
       "      <td>9627982032</td>\n",
       "      <td>The Credit Suisse Guide to Managing Your Personal Wealth</td>\n",
       "      <td>Other</td>\n",
       "      <td>1995</td>\n",
       "      <td>Edinburgh Financial Publishing</td>\n",
       "      <td>http://images.amazon.com/images/P/9627982032.01.THUMBZZZ.jpg</td>\n",
       "      <td>http://images.amazon.com/images/P/9627982032.01.MZZZZZZZ.jpg</td>\n",
       "      <td>http://images.amazon.com/images/P/9627982032.01.LZZZZZZZ.jpg</td>\n",
       "    </tr>\n",
       "  </tbody>\n",
       "</table>\n",
       "</div>"
      ],
      "text/plain": [
       "              ISBN                                                Book-Title  \\\n",
       "118033  0751352497                                  A+ Quiz Masters:01 Earth   \n",
       "187689  9627982032  The Credit Suisse Guide to Managing Your Personal Wealth   \n",
       "\n",
       "       Book-Author Year-Of-Publication                       Publisher  \\\n",
       "118033       Other                1999              Dorling Kindersley   \n",
       "187689       Other                1995  Edinburgh Financial Publishing   \n",
       "\n",
       "                                                         Image-URL-S  \\\n",
       "118033  http://images.amazon.com/images/P/0751352497.01.THUMBZZZ.jpg   \n",
       "187689  http://images.amazon.com/images/P/9627982032.01.THUMBZZZ.jpg   \n",
       "\n",
       "                                                         Image-URL-M  \\\n",
       "118033  http://images.amazon.com/images/P/0751352497.01.MZZZZZZZ.jpg   \n",
       "187689  http://images.amazon.com/images/P/9627982032.01.MZZZZZZZ.jpg   \n",
       "\n",
       "                                                         Image-URL-L  \n",
       "118033  http://images.amazon.com/images/P/0751352497.01.LZZZZZZZ.jpg  \n",
       "187689  http://images.amazon.com/images/P/9627982032.01.LZZZZZZZ.jpg  "
      ]
     },
     "execution_count": 235,
     "metadata": {},
     "output_type": "execute_result"
    }
   ],
   "source": [
    "books.loc[books['Book-Author'] == 'Other']"
   ]
  },
  {
   "cell_type": "code",
   "execution_count": 236,
   "metadata": {},
   "outputs": [
    {
     "data": {
      "text/html": [
       "<div>\n",
       "<style scoped>\n",
       "    .dataframe tbody tr th:only-of-type {\n",
       "        vertical-align: middle;\n",
       "    }\n",
       "\n",
       "    .dataframe tbody tr th {\n",
       "        vertical-align: top;\n",
       "    }\n",
       "\n",
       "    .dataframe thead th {\n",
       "        text-align: right;\n",
       "    }\n",
       "</style>\n",
       "<table border=\"1\" class=\"dataframe\">\n",
       "  <thead>\n",
       "    <tr style=\"text-align: right;\">\n",
       "      <th></th>\n",
       "      <th>ISBN</th>\n",
       "      <th>Book-Title</th>\n",
       "      <th>Book-Author</th>\n",
       "      <th>Year-Of-Publication</th>\n",
       "      <th>Publisher</th>\n",
       "      <th>Image-URL-S</th>\n",
       "      <th>Image-URL-M</th>\n",
       "      <th>Image-URL-L</th>\n",
       "    </tr>\n",
       "  </thead>\n",
       "  <tbody>\n",
       "    <tr>\n",
       "      <th>128890</th>\n",
       "      <td>193169656X</td>\n",
       "      <td>Tyrant Moon</td>\n",
       "      <td>Elaine Corvidae</td>\n",
       "      <td>2002</td>\n",
       "      <td>NaN</td>\n",
       "      <td>http://images.amazon.com/images/P/193169656X.01.THUMBZZZ.jpg</td>\n",
       "      <td>http://images.amazon.com/images/P/193169656X.01.MZZZZZZZ.jpg</td>\n",
       "      <td>http://images.amazon.com/images/P/193169656X.01.LZZZZZZZ.jpg</td>\n",
       "    </tr>\n",
       "    <tr>\n",
       "      <th>129037</th>\n",
       "      <td>1931696993</td>\n",
       "      <td>Finders Keepers</td>\n",
       "      <td>Linnea Sinclair</td>\n",
       "      <td>2001</td>\n",
       "      <td>NaN</td>\n",
       "      <td>http://images.amazon.com/images/P/1931696993.01.THUMBZZZ.jpg</td>\n",
       "      <td>http://images.amazon.com/images/P/1931696993.01.MZZZZZZZ.jpg</td>\n",
       "      <td>http://images.amazon.com/images/P/1931696993.01.LZZZZZZZ.jpg</td>\n",
       "    </tr>\n",
       "  </tbody>\n",
       "</table>\n",
       "</div>"
      ],
      "text/plain": [
       "              ISBN       Book-Title      Book-Author Year-Of-Publication  \\\n",
       "128890  193169656X      Tyrant Moon  Elaine Corvidae                2002   \n",
       "129037  1931696993  Finders Keepers  Linnea Sinclair                2001   \n",
       "\n",
       "       Publisher  \\\n",
       "128890       NaN   \n",
       "129037       NaN   \n",
       "\n",
       "                                                         Image-URL-S  \\\n",
       "128890  http://images.amazon.com/images/P/193169656X.01.THUMBZZZ.jpg   \n",
       "129037  http://images.amazon.com/images/P/1931696993.01.THUMBZZZ.jpg   \n",
       "\n",
       "                                                         Image-URL-M  \\\n",
       "128890  http://images.amazon.com/images/P/193169656X.01.MZZZZZZZ.jpg   \n",
       "129037  http://images.amazon.com/images/P/1931696993.01.MZZZZZZZ.jpg   \n",
       "\n",
       "                                                         Image-URL-L  \n",
       "128890  http://images.amazon.com/images/P/193169656X.01.LZZZZZZZ.jpg  \n",
       "129037  http://images.amazon.com/images/P/1931696993.01.LZZZZZZZ.jpg  "
      ]
     },
     "execution_count": 236,
     "metadata": {},
     "output_type": "execute_result"
    }
   ],
   "source": [
    "books.loc[books['Publisher'].isna(), :]"
   ]
  },
  {
   "cell_type": "code",
   "execution_count": 237,
   "metadata": {},
   "outputs": [],
   "source": [
    "books.at[128890, 'Publisher'] = 'Other'\n",
    "books.at[129037, 'Publisher'] = 'Other'"
   ]
  },
  {
   "cell_type": "code",
   "execution_count": 238,
   "metadata": {},
   "outputs": [
    {
     "data": {
      "text/html": [
       "<div>\n",
       "<style scoped>\n",
       "    .dataframe tbody tr th:only-of-type {\n",
       "        vertical-align: middle;\n",
       "    }\n",
       "\n",
       "    .dataframe tbody tr th {\n",
       "        vertical-align: top;\n",
       "    }\n",
       "\n",
       "    .dataframe thead th {\n",
       "        text-align: right;\n",
       "    }\n",
       "</style>\n",
       "<table border=\"1\" class=\"dataframe\">\n",
       "  <thead>\n",
       "    <tr style=\"text-align: right;\">\n",
       "      <th></th>\n",
       "      <th>ISBN</th>\n",
       "      <th>Book-Title</th>\n",
       "      <th>Book-Author</th>\n",
       "      <th>Year-Of-Publication</th>\n",
       "      <th>Publisher</th>\n",
       "      <th>Image-URL-S</th>\n",
       "      <th>Image-URL-M</th>\n",
       "      <th>Image-URL-L</th>\n",
       "    </tr>\n",
       "  </thead>\n",
       "  <tbody>\n",
       "    <tr>\n",
       "      <th>128890</th>\n",
       "      <td>193169656X</td>\n",
       "      <td>Tyrant Moon</td>\n",
       "      <td>Elaine Corvidae</td>\n",
       "      <td>2002</td>\n",
       "      <td>Other</td>\n",
       "      <td>http://images.amazon.com/images/P/193169656X.01.THUMBZZZ.jpg</td>\n",
       "      <td>http://images.amazon.com/images/P/193169656X.01.MZZZZZZZ.jpg</td>\n",
       "      <td>http://images.amazon.com/images/P/193169656X.01.LZZZZZZZ.jpg</td>\n",
       "    </tr>\n",
       "    <tr>\n",
       "      <th>129037</th>\n",
       "      <td>1931696993</td>\n",
       "      <td>Finders Keepers</td>\n",
       "      <td>Linnea Sinclair</td>\n",
       "      <td>2001</td>\n",
       "      <td>Other</td>\n",
       "      <td>http://images.amazon.com/images/P/1931696993.01.THUMBZZZ.jpg</td>\n",
       "      <td>http://images.amazon.com/images/P/1931696993.01.MZZZZZZZ.jpg</td>\n",
       "      <td>http://images.amazon.com/images/P/1931696993.01.LZZZZZZZ.jpg</td>\n",
       "    </tr>\n",
       "  </tbody>\n",
       "</table>\n",
       "</div>"
      ],
      "text/plain": [
       "              ISBN       Book-Title      Book-Author Year-Of-Publication  \\\n",
       "128890  193169656X      Tyrant Moon  Elaine Corvidae                2002   \n",
       "129037  1931696993  Finders Keepers  Linnea Sinclair                2001   \n",
       "\n",
       "       Publisher  \\\n",
       "128890     Other   \n",
       "129037     Other   \n",
       "\n",
       "                                                         Image-URL-S  \\\n",
       "128890  http://images.amazon.com/images/P/193169656X.01.THUMBZZZ.jpg   \n",
       "129037  http://images.amazon.com/images/P/1931696993.01.THUMBZZZ.jpg   \n",
       "\n",
       "                                                         Image-URL-M  \\\n",
       "128890  http://images.amazon.com/images/P/193169656X.01.MZZZZZZZ.jpg   \n",
       "129037  http://images.amazon.com/images/P/1931696993.01.MZZZZZZZ.jpg   \n",
       "\n",
       "                                                         Image-URL-L  \n",
       "128890  http://images.amazon.com/images/P/193169656X.01.LZZZZZZZ.jpg  \n",
       "129037  http://images.amazon.com/images/P/1931696993.01.LZZZZZZZ.jpg  "
      ]
     },
     "execution_count": 238,
     "metadata": {},
     "output_type": "execute_result"
    }
   ],
   "source": [
    "books.loc[books['Publisher'] == 'Other']"
   ]
  },
  {
   "cell_type": "code",
   "execution_count": 239,
   "metadata": {},
   "outputs": [
    {
     "data": {
      "text/html": [
       "<div>\n",
       "<style scoped>\n",
       "    .dataframe tbody tr th:only-of-type {\n",
       "        vertical-align: middle;\n",
       "    }\n",
       "\n",
       "    .dataframe tbody tr th {\n",
       "        vertical-align: top;\n",
       "    }\n",
       "\n",
       "    .dataframe thead th {\n",
       "        text-align: right;\n",
       "    }\n",
       "</style>\n",
       "<table border=\"1\" class=\"dataframe\">\n",
       "  <thead>\n",
       "    <tr style=\"text-align: right;\">\n",
       "      <th></th>\n",
       "      <th>ISBN</th>\n",
       "      <th>Book-Title</th>\n",
       "      <th>Book-Author</th>\n",
       "      <th>Year-Of-Publication</th>\n",
       "      <th>Publisher</th>\n",
       "      <th>Image-URL-S</th>\n",
       "      <th>Image-URL-M</th>\n",
       "      <th>Image-URL-L</th>\n",
       "    </tr>\n",
       "  </thead>\n",
       "  <tbody>\n",
       "    <tr>\n",
       "      <th>209538</th>\n",
       "      <td>078946697X</td>\n",
       "      <td>DK Readers: Creating the X-Men, How It All Began (Level 4: Proficient Readers)\\\";Michael Teitelbaum\"</td>\n",
       "      <td>2000</td>\n",
       "      <td>DK Publishing Inc</td>\n",
       "      <td>http://images.amazon.com/images/P/078946697X.01.THUMBZZZ.jpg</td>\n",
       "      <td>http://images.amazon.com/images/P/078946697X.01.MZZZZZZZ.jpg</td>\n",
       "      <td>http://images.amazon.com/images/P/078946697X.01.LZZZZZZZ.jpg</td>\n",
       "      <td>NaN</td>\n",
       "    </tr>\n",
       "    <tr>\n",
       "      <th>220731</th>\n",
       "      <td>2070426769</td>\n",
       "      <td>Peuple du ciel, suivi de 'Les Bergers\\\";Jean-Marie Gustave Le ClÃ?Â©zio\"</td>\n",
       "      <td>2003</td>\n",
       "      <td>Gallimard</td>\n",
       "      <td>http://images.amazon.com/images/P/2070426769.01.THUMBZZZ.jpg</td>\n",
       "      <td>http://images.amazon.com/images/P/2070426769.01.MZZZZZZZ.jpg</td>\n",
       "      <td>http://images.amazon.com/images/P/2070426769.01.LZZZZZZZ.jpg</td>\n",
       "      <td>NaN</td>\n",
       "    </tr>\n",
       "    <tr>\n",
       "      <th>221678</th>\n",
       "      <td>0789466953</td>\n",
       "      <td>DK Readers: Creating the X-Men, How Comic Books Come to Life (Level 4: Proficient Readers)\\\";James Buckley\"</td>\n",
       "      <td>2000</td>\n",
       "      <td>DK Publishing Inc</td>\n",
       "      <td>http://images.amazon.com/images/P/0789466953.01.THUMBZZZ.jpg</td>\n",
       "      <td>http://images.amazon.com/images/P/0789466953.01.MZZZZZZZ.jpg</td>\n",
       "      <td>http://images.amazon.com/images/P/0789466953.01.LZZZZZZZ.jpg</td>\n",
       "      <td>NaN</td>\n",
       "    </tr>\n",
       "  </tbody>\n",
       "</table>\n",
       "</div>"
      ],
      "text/plain": [
       "              ISBN  \\\n",
       "209538  078946697X   \n",
       "220731  2070426769   \n",
       "221678  0789466953   \n",
       "\n",
       "                                                                                                         Book-Title  \\\n",
       "209538         DK Readers: Creating the X-Men, How It All Began (Level 4: Proficient Readers)\\\";Michael Teitelbaum\"   \n",
       "220731                                     Peuple du ciel, suivi de 'Les Bergers\\\";Jean-Marie Gustave Le ClÃ?Â©zio\"   \n",
       "221678  DK Readers: Creating the X-Men, How Comic Books Come to Life (Level 4: Proficient Readers)\\\";James Buckley\"   \n",
       "\n",
       "       Book-Author Year-Of-Publication  \\\n",
       "209538        2000   DK Publishing Inc   \n",
       "220731        2003           Gallimard   \n",
       "221678        2000   DK Publishing Inc   \n",
       "\n",
       "                                                           Publisher  \\\n",
       "209538  http://images.amazon.com/images/P/078946697X.01.THUMBZZZ.jpg   \n",
       "220731  http://images.amazon.com/images/P/2070426769.01.THUMBZZZ.jpg   \n",
       "221678  http://images.amazon.com/images/P/0789466953.01.THUMBZZZ.jpg   \n",
       "\n",
       "                                                         Image-URL-S  \\\n",
       "209538  http://images.amazon.com/images/P/078946697X.01.MZZZZZZZ.jpg   \n",
       "220731  http://images.amazon.com/images/P/2070426769.01.MZZZZZZZ.jpg   \n",
       "221678  http://images.amazon.com/images/P/0789466953.01.MZZZZZZZ.jpg   \n",
       "\n",
       "                                                         Image-URL-M  \\\n",
       "209538  http://images.amazon.com/images/P/078946697X.01.LZZZZZZZ.jpg   \n",
       "220731  http://images.amazon.com/images/P/2070426769.01.LZZZZZZZ.jpg   \n",
       "221678  http://images.amazon.com/images/P/0789466953.01.LZZZZZZZ.jpg   \n",
       "\n",
       "       Image-URL-L  \n",
       "209538         NaN  \n",
       "220731         NaN  \n",
       "221678         NaN  "
      ]
     },
     "execution_count": 239,
     "metadata": {},
     "output_type": "execute_result"
    }
   ],
   "source": [
    "books.loc[books['Image-URL-L'].isna(), :]"
   ]
  },
  {
   "cell_type": "code",
   "execution_count": 240,
   "metadata": {},
   "outputs": [
    {
     "data": {
      "text/plain": [
       "ISBN                                                                                                             078946697X\n",
       "Book-Title             DK Readers: Creating the X-Men, How It All Began (Level 4: Proficient Readers)\\\";Michael Teitelbaum\"\n",
       "Book-Author                                                                                                            2000\n",
       "Year-Of-Publication                                                                                       DK Publishing Inc\n",
       "Publisher                                                      http://images.amazon.com/images/P/078946697X.01.THUMBZZZ.jpg\n",
       "Image-URL-S                                                    http://images.amazon.com/images/P/078946697X.01.MZZZZZZZ.jpg\n",
       "Image-URL-M                                                    http://images.amazon.com/images/P/078946697X.01.LZZZZZZZ.jpg\n",
       "Image-URL-L                                                                                                             NaN\n",
       "Name: 209538, dtype: object"
      ]
     },
     "execution_count": 240,
     "metadata": {},
     "output_type": "execute_result"
    }
   ],
   "source": [
    "## We can see in the above, there are three rows with Image-URL-L column null. What we can also ovserve is that, The values for Book-Author and Year-of-Publication are interchanged.\n",
    "## Also instead of publisher value is in Book-Title, so let's fix this\n",
    "pd.set_option('display.max_colwidth', None)\n",
    "books.loc[209538]"
   ]
  },
  {
   "cell_type": "code",
   "execution_count": 241,
   "metadata": {},
   "outputs": [
    {
     "data": {
      "text/plain": [
       "ISBN                                                                                       078946697X\n",
       "Book-Title             DK Readers: Creating the X-Men, How It All Began (Level 4: Proficient Readers)\n",
       "Book-Author                                                                        Michael Teitelbaum\n",
       "Year-Of-Publication                                                                              2000\n",
       "Publisher                                                                           DK Publishing Inc\n",
       "Image-URL-S                              http://images.amazon.com/images/P/078946697X.01.THUMBZZZ.jpg\n",
       "Image-URL-M                              http://images.amazon.com/images/P/078946697X.01.MZZZZZZZ.jpg\n",
       "Image-URL-L                              http://images.amazon.com/images/P/078946697X.01.LZZZZZZZ.jpg\n",
       "Name: 209538, dtype: object"
      ]
     },
     "execution_count": 241,
     "metadata": {},
     "output_type": "execute_result"
    }
   ],
   "source": [
    "books.at[209538, 'Book-Title'] = \"DK Readers: Creating the X-Men, How It All Began (Level 4: Proficient Readers)\"\n",
    "books.at[209538, 'Book-Author'] = \"Michael Teitelbaum\"\n",
    "books.at[209538, 'Year-Of-Publication'] = 2000\n",
    "books.at[209538, 'Publisher'] = \"DK Publishing Inc\"\n",
    "books.at[209538, 'Image-URL-S'] = \"http://images.amazon.com/images/P/078946697X.01.THUMBZZZ.jpg\"\n",
    "books.at[209538, 'Image-URL-M'] = \"http://images.amazon.com/images/P/078946697X.01.MZZZZZZZ.jpg\"\n",
    "books.at[209538, 'Image-URL-L'] = \"http://images.amazon.com/images/P/078946697X.01.LZZZZZZZ.jpg\"\n",
    "\n",
    "books.loc[209538]"
   ]
  },
  {
   "cell_type": "code",
   "execution_count": 242,
   "metadata": {},
   "outputs": [
    {
     "data": {
      "text/plain": [
       "ISBN                                                                                                                    0789466953\n",
       "Book-Title             DK Readers: Creating the X-Men, How Comic Books Come to Life (Level 4: Proficient Readers)\\\";James Buckley\"\n",
       "Book-Author                                                                                                                   2000\n",
       "Year-Of-Publication                                                                                              DK Publishing Inc\n",
       "Publisher                                                             http://images.amazon.com/images/P/0789466953.01.THUMBZZZ.jpg\n",
       "Image-URL-S                                                           http://images.amazon.com/images/P/0789466953.01.MZZZZZZZ.jpg\n",
       "Image-URL-M                                                           http://images.amazon.com/images/P/0789466953.01.LZZZZZZZ.jpg\n",
       "Image-URL-L                                                                                                                    NaN\n",
       "Name: 221678, dtype: object"
      ]
     },
     "execution_count": 242,
     "metadata": {},
     "output_type": "execute_result"
    }
   ],
   "source": [
    "books.loc[221678]"
   ]
  },
  {
   "cell_type": "code",
   "execution_count": 243,
   "metadata": {},
   "outputs": [
    {
     "data": {
      "text/plain": [
       "ISBN                                                                                                   0789466953\n",
       "Book-Title             DK Readers: Creating the X-Men, How Comic Books Come to Life (Level 4: Proficient Readers)\n",
       "Book-Author                                                                                         James Buckley\n",
       "Year-Of-Publication                                                                                          2000\n",
       "Publisher                                                                                       DK Publishing Inc\n",
       "Image-URL-S                                          http://images.amazon.com/images/P/0789466953.01.THUMBZZZ.jpg\n",
       "Image-URL-M                                          http://images.amazon.com/images/P/0789466953.01.MZZZZZZZ.jpg\n",
       "Image-URL-L                                          http://images.amazon.com/images/P/0789466953.01.LZZZZZZZ.jpg\n",
       "Name: 221678, dtype: object"
      ]
     },
     "execution_count": 243,
     "metadata": {},
     "output_type": "execute_result"
    }
   ],
   "source": [
    "books.at[221678, 'Book-Title'] = \"DK Readers: Creating the X-Men, How Comic Books Come to Life (Level 4: Proficient Readers)\"\n",
    "books.at[221678, 'Book-Author'] = \"James Buckley\"\n",
    "books.at[221678, 'Year-Of-Publication'] = 2000\n",
    "books.at[221678, 'Publisher'] = \"DK Publishing Inc\"\n",
    "books.at[221678, 'Image-URL-S'] = \"http://images.amazon.com/images/P/0789466953.01.THUMBZZZ.jpg\"\n",
    "books.at[221678, 'Image-URL-M'] = \"http://images.amazon.com/images/P/0789466953.01.MZZZZZZZ.jpg\"\n",
    "books.at[221678, 'Image-URL-L'] = \"http://images.amazon.com/images/P/0789466953.01.LZZZZZZZ.jpg\"\n",
    "\n",
    "books.loc[221678]"
   ]
  },
  {
   "cell_type": "code",
   "execution_count": 244,
   "metadata": {},
   "outputs": [
    {
     "data": {
      "text/plain": [
       "ISBN                                                                                 2070426769\n",
       "Book-Title             Peuple du ciel, suivi de 'Les Bergers\\\";Jean-Marie Gustave Le ClÃ?Â©zio\"\n",
       "Book-Author                                                                                2003\n",
       "Year-Of-Publication                                                                   Gallimard\n",
       "Publisher                          http://images.amazon.com/images/P/2070426769.01.THUMBZZZ.jpg\n",
       "Image-URL-S                        http://images.amazon.com/images/P/2070426769.01.MZZZZZZZ.jpg\n",
       "Image-URL-M                        http://images.amazon.com/images/P/2070426769.01.LZZZZZZZ.jpg\n",
       "Image-URL-L                                                                                 NaN\n",
       "Name: 220731, dtype: object"
      ]
     },
     "execution_count": 244,
     "metadata": {},
     "output_type": "execute_result"
    }
   ],
   "source": [
    "books.loc[220731]"
   ]
  },
  {
   "cell_type": "code",
   "execution_count": 245,
   "metadata": {},
   "outputs": [
    {
     "data": {
      "text/plain": [
       "ISBN                                                                                                   0789466953\n",
       "Book-Title             DK Readers: Creating the X-Men, How Comic Books Come to Life (Level 4: Proficient Readers)\n",
       "Book-Author                                                                                         James Buckley\n",
       "Year-Of-Publication                                                                                          2000\n",
       "Publisher                                                                                       DK Publishing Inc\n",
       "Image-URL-S                                          http://images.amazon.com/images/P/0789466953.01.THUMBZZZ.jpg\n",
       "Image-URL-M                                          http://images.amazon.com/images/P/0789466953.01.MZZZZZZZ.jpg\n",
       "Image-URL-L                                          http://images.amazon.com/images/P/0789466953.01.LZZZZZZZ.jpg\n",
       "Name: 221678, dtype: object"
      ]
     },
     "execution_count": 245,
     "metadata": {},
     "output_type": "execute_result"
    }
   ],
   "source": [
    "books.at[220731, 'Book-Title'] = \"Peuple du ciel, suivi de 'Les Bergers\"\n",
    "books.at[220731, 'Book-Author'] = \"Jean-Marie Gustave Le ClÃ?Â©zio\"\n",
    "books.at[220731, 'Year-Of-Publication'] = 2003\n",
    "books.at[220731, 'Publisher'] = \"Gallimard\"\n",
    "books.at[220731, 'Image-URL-S'] = \"http://images.amazon.com/images/P/2070426769.01.THUMBZZZ.jpg\"\n",
    "books.at[220731, 'Image-URL-M'] = \"http://images.amazon.com/images/P/2070426769.01.MZZZZZZZ.jpg\"\n",
    "books.at[220731, 'Image-URL-L'] = \"http://images.amazon.com/images/P/2070426769.01.LZZZZZZZ.jpg\"\n",
    "\n",
    "books.loc[221678]"
   ]
  },
  {
   "cell_type": "code",
   "execution_count": 246,
   "metadata": {},
   "outputs": [],
   "source": [
    "books['Year-Of-Publication'] = books['Year-Of-Publication'].astype(int)"
   ]
  },
  {
   "cell_type": "code",
   "execution_count": 247,
   "metadata": {},
   "outputs": [
    {
     "name": "stdout",
     "output_type": "stream",
     "text": [
      "[0, 1376, 1378, 1806, 1897, 1900, 1901, 1902, 1904, 1906, 1908, 1909, 1910, 1911, 1914, 1917, 1919, 1920, 1921, 1922, 1923, 1924, 1925, 1926, 1927, 1928, 1929, 1930, 1931, 1932, 1933, 1934, 1935, 1936, 1937, 1938, 1939, 1940, 1941, 1942, 1943, 1944, 1945, 1946, 1947, 1948, 1949, 1950, 1951, 1952, 1953, 1954, 1955, 1956, 1957, 1958, 1959, 1960, 1961, 1962, 1963, 1964, 1965, 1966, 1967, 1968, 1969, 1970, 1971, 1972, 1973, 1974, 1975, 1976, 1977, 1978, 1979, 1980, 1981, 1982, 1983, 1984, 1985, 1986, 1987, 1988, 1989, 1990, 1991, 1992, 1993, 1994, 1995, 1996, 1997, 1998, 1999, 2000, 2001, 2002, 2003, 2004, 2005, 2006, 2008, 2010, 2011, 2012, 2020, 2021, 2024, 2026, 2030, 2037, 2038, 2050]\n"
     ]
    }
   ],
   "source": [
    "print(sorted(list(books['Year-Of-Publication'].unique())))"
   ]
  },
  {
   "cell_type": "code",
   "execution_count": 248,
   "metadata": {},
   "outputs": [],
   "source": [
    "## In the above we can see that the year of publication has values which are greater than 2023 which is not valid. So we shall replace invalid years with 2023\n",
    "books.loc[books['Year-Of-Publication'] > 2021, 'Year-Of-Publication'] = 2023\n",
    "books.loc[books['Year-Of-Publication'] == 0, 'Year-Of-Publication'] = 2023\n"
   ]
  },
  {
   "cell_type": "code",
   "execution_count": 249,
   "metadata": {},
   "outputs": [],
   "source": [
    "## Uppercasing all alphabets in ISBN\n",
    "books['ISBN'] = books['ISBN'].str.upper()"
   ]
  },
  {
   "cell_type": "code",
   "execution_count": 250,
   "metadata": {},
   "outputs": [],
   "source": [
    "## Drop duplicate rows\n",
    "books.drop_duplicates(keep='last', inplace=True) \n",
    "books.reset_index(drop = True, inplace = True)"
   ]
  },
  {
   "cell_type": "code",
   "execution_count": 251,
   "metadata": {},
   "outputs": [
    {
     "name": "stdout",
     "output_type": "stream",
     "text": [
      "<class 'pandas.core.frame.DataFrame'>\n",
      "RangeIndex: 271047 entries, 0 to 271046\n",
      "Data columns (total 8 columns):\n",
      " #   Column               Non-Null Count   Dtype \n",
      "---  ------               --------------   ----- \n",
      " 0   ISBN                 271047 non-null  object\n",
      " 1   Book-Title           271047 non-null  object\n",
      " 2   Book-Author          271047 non-null  object\n",
      " 3   Year-Of-Publication  271047 non-null  int32 \n",
      " 4   Publisher            271047 non-null  object\n",
      " 5   Image-URL-S          271047 non-null  object\n",
      " 6   Image-URL-M          271047 non-null  object\n",
      " 7   Image-URL-L          271047 non-null  object\n",
      "dtypes: int32(1), object(7)\n",
      "memory usage: 15.5+ MB\n"
     ]
    }
   ],
   "source": [
    "books.info()"
   ]
  },
  {
   "cell_type": "code",
   "execution_count": 252,
   "metadata": {},
   "outputs": [
    {
     "data": {
      "text/html": [
       "<div>\n",
       "<style scoped>\n",
       "    .dataframe tbody tr th:only-of-type {\n",
       "        vertical-align: middle;\n",
       "    }\n",
       "\n",
       "    .dataframe tbody tr th {\n",
       "        vertical-align: top;\n",
       "    }\n",
       "\n",
       "    .dataframe thead th {\n",
       "        text-align: right;\n",
       "    }\n",
       "</style>\n",
       "<table border=\"1\" class=\"dataframe\">\n",
       "  <thead>\n",
       "    <tr style=\"text-align: right;\">\n",
       "      <th></th>\n",
       "      <th>User-ID</th>\n",
       "      <th>ISBN</th>\n",
       "      <th>Book-Rating</th>\n",
       "    </tr>\n",
       "  </thead>\n",
       "  <tbody>\n",
       "    <tr>\n",
       "      <th>0</th>\n",
       "      <td>276725</td>\n",
       "      <td>034545104X</td>\n",
       "      <td>0</td>\n",
       "    </tr>\n",
       "    <tr>\n",
       "      <th>1</th>\n",
       "      <td>276726</td>\n",
       "      <td>0155061224</td>\n",
       "      <td>5</td>\n",
       "    </tr>\n",
       "    <tr>\n",
       "      <th>2</th>\n",
       "      <td>276727</td>\n",
       "      <td>0446520802</td>\n",
       "      <td>0</td>\n",
       "    </tr>\n",
       "    <tr>\n",
       "      <th>3</th>\n",
       "      <td>276729</td>\n",
       "      <td>052165615X</td>\n",
       "      <td>3</td>\n",
       "    </tr>\n",
       "    <tr>\n",
       "      <th>4</th>\n",
       "      <td>276729</td>\n",
       "      <td>0521795028</td>\n",
       "      <td>6</td>\n",
       "    </tr>\n",
       "  </tbody>\n",
       "</table>\n",
       "</div>"
      ],
      "text/plain": [
       "  User-ID        ISBN Book-Rating\n",
       "0  276725  034545104X           0\n",
       "1  276726  0155061224           5\n",
       "2  276727  0446520802           0\n",
       "3  276729  052165615X           3\n",
       "4  276729  0521795028           6"
      ]
     },
     "execution_count": 252,
     "metadata": {},
     "output_type": "execute_result"
    }
   ],
   "source": [
    "ratings.head()"
   ]
  },
  {
   "cell_type": "code",
   "execution_count": 253,
   "metadata": {},
   "outputs": [
    {
     "name": "stdout",
     "output_type": "stream",
     "text": [
      "<class 'pandas.core.frame.DataFrame'>\n",
      "RangeIndex: 1149780 entries, 0 to 1149779\n",
      "Data columns (total 3 columns):\n",
      " #   Column       Non-Null Count    Dtype \n",
      "---  ------       --------------    ----- \n",
      " 0   User-ID      1149780 non-null  object\n",
      " 1   ISBN         1149780 non-null  object\n",
      " 2   Book-Rating  1149780 non-null  object\n",
      "dtypes: object(3)\n",
      "memory usage: 26.3+ MB\n"
     ]
    }
   ],
   "source": [
    "ratings.info()"
   ]
  },
  {
   "cell_type": "code",
   "execution_count": 254,
   "metadata": {},
   "outputs": [],
   "source": [
    "ratings.columns=ratings.columns.str.strip().str.lower().str.replace('-','_')"
   ]
  },
  {
   "cell_type": "code",
   "execution_count": 255,
   "metadata": {},
   "outputs": [
    {
     "name": "stdout",
     "output_type": "stream",
     "text": [
      "user_id        0\n",
      "isbn           0\n",
      "book_rating    0\n",
      "dtype: int64\n"
     ]
    }
   ],
   "source": [
    "print(ratings.isnull().sum())"
   ]
  },
  {
   "cell_type": "code",
   "execution_count": 256,
   "metadata": {},
   "outputs": [
    {
     "data": {
      "text/html": [
       "<div>\n",
       "<style scoped>\n",
       "    .dataframe tbody tr th:only-of-type {\n",
       "        vertical-align: middle;\n",
       "    }\n",
       "\n",
       "    .dataframe tbody tr th {\n",
       "        vertical-align: top;\n",
       "    }\n",
       "\n",
       "    .dataframe thead th {\n",
       "        text-align: right;\n",
       "    }\n",
       "</style>\n",
       "<table border=\"1\" class=\"dataframe\">\n",
       "  <thead>\n",
       "    <tr style=\"text-align: right;\">\n",
       "      <th></th>\n",
       "      <th>user_id</th>\n",
       "      <th>isbn</th>\n",
       "      <th>book_rating</th>\n",
       "    </tr>\n",
       "  </thead>\n",
       "  <tbody>\n",
       "  </tbody>\n",
       "</table>\n",
       "</div>"
      ],
      "text/plain": [
       "Empty DataFrame\n",
       "Columns: [user_id, isbn, book_rating]\n",
       "Index: []"
      ]
     },
     "execution_count": 256,
     "metadata": {},
     "output_type": "execute_result"
    }
   ],
   "source": [
    "ratings.loc[(ratings['user_id'].isnull()),: ]"
   ]
  },
  {
   "cell_type": "code",
   "execution_count": 257,
   "metadata": {},
   "outputs": [
    {
     "data": {
      "text/html": [
       "<div>\n",
       "<style scoped>\n",
       "    .dataframe tbody tr th:only-of-type {\n",
       "        vertical-align: middle;\n",
       "    }\n",
       "\n",
       "    .dataframe tbody tr th {\n",
       "        vertical-align: top;\n",
       "    }\n",
       "\n",
       "    .dataframe thead th {\n",
       "        text-align: right;\n",
       "    }\n",
       "</style>\n",
       "<table border=\"1\" class=\"dataframe\">\n",
       "  <thead>\n",
       "    <tr style=\"text-align: right;\">\n",
       "      <th></th>\n",
       "      <th>user_id</th>\n",
       "      <th>isbn</th>\n",
       "      <th>book_rating</th>\n",
       "    </tr>\n",
       "  </thead>\n",
       "  <tbody>\n",
       "    <tr>\n",
       "      <th>0</th>\n",
       "      <td>276725</td>\n",
       "      <td>034545104X</td>\n",
       "      <td>0</td>\n",
       "    </tr>\n",
       "    <tr>\n",
       "      <th>1</th>\n",
       "      <td>276726</td>\n",
       "      <td>0155061224</td>\n",
       "      <td>5</td>\n",
       "    </tr>\n",
       "    <tr>\n",
       "      <th>2</th>\n",
       "      <td>276727</td>\n",
       "      <td>0446520802</td>\n",
       "      <td>0</td>\n",
       "    </tr>\n",
       "    <tr>\n",
       "      <th>3</th>\n",
       "      <td>276729</td>\n",
       "      <td>052165615X</td>\n",
       "      <td>3</td>\n",
       "    </tr>\n",
       "    <tr>\n",
       "      <th>4</th>\n",
       "      <td>276729</td>\n",
       "      <td>0521795028</td>\n",
       "      <td>6</td>\n",
       "    </tr>\n",
       "    <tr>\n",
       "      <th>...</th>\n",
       "      <td>...</td>\n",
       "      <td>...</td>\n",
       "      <td>...</td>\n",
       "    </tr>\n",
       "    <tr>\n",
       "      <th>1149774</th>\n",
       "      <td>276704</td>\n",
       "      <td>0876044011</td>\n",
       "      <td>0</td>\n",
       "    </tr>\n",
       "    <tr>\n",
       "      <th>1149775</th>\n",
       "      <td>276704</td>\n",
       "      <td>1563526298</td>\n",
       "      <td>9</td>\n",
       "    </tr>\n",
       "    <tr>\n",
       "      <th>1149776</th>\n",
       "      <td>276706</td>\n",
       "      <td>0679447156</td>\n",
       "      <td>0</td>\n",
       "    </tr>\n",
       "    <tr>\n",
       "      <th>1149777</th>\n",
       "      <td>276709</td>\n",
       "      <td>0515107662</td>\n",
       "      <td>10</td>\n",
       "    </tr>\n",
       "    <tr>\n",
       "      <th>1149778</th>\n",
       "      <td>276721</td>\n",
       "      <td>0590442449</td>\n",
       "      <td>10</td>\n",
       "    </tr>\n",
       "  </tbody>\n",
       "</table>\n",
       "<p>1030617 rows × 3 columns</p>\n",
       "</div>"
      ],
      "text/plain": [
       "        user_id        isbn book_rating\n",
       "0        276725  034545104X           0\n",
       "1        276726  0155061224           5\n",
       "2        276727  0446520802           0\n",
       "3        276729  052165615X           3\n",
       "4        276729  0521795028           6\n",
       "...         ...         ...         ...\n",
       "1149774  276704  0876044011           0\n",
       "1149775  276704  1563526298           9\n",
       "1149776  276706  0679447156           0\n",
       "1149777  276709  0515107662          10\n",
       "1149778  276721  0590442449          10\n",
       "\n",
       "[1030617 rows x 3 columns]"
      ]
     },
     "execution_count": 257,
     "metadata": {},
     "output_type": "execute_result"
    }
   ],
   "source": [
    "unique_ratings = ratings[ratings['isbn'].isin(books['ISBN'])]\n",
    "unique_ratings"
   ]
  },
  {
   "cell_type": "code",
   "execution_count": 258,
   "metadata": {},
   "outputs": [
    {
     "name": "stdout",
     "output_type": "stream",
     "text": [
      "(1149780, 3)\n",
      "(1030617, 3)\n"
     ]
    }
   ],
   "source": [
    "print(ratings.shape)\n",
    "print(unique_ratings.shape)"
   ]
  },
  {
   "cell_type": "code",
   "execution_count": 259,
   "metadata": {},
   "outputs": [
    {
     "data": {
      "text/plain": [
       "array(['0', '5', '3', '6', '7', '9', '8', '10', '1', '4', '2'],\n",
       "      dtype=object)"
      ]
     },
     "execution_count": 259,
     "metadata": {},
     "output_type": "execute_result"
    }
   ],
   "source": [
    "unique_ratings['book_rating'].unique()"
   ]
  },
  {
   "cell_type": "code",
   "execution_count": 260,
   "metadata": {},
   "outputs": [
    {
     "data": {
      "text/plain": [
       "user_id        0\n",
       "isbn           0\n",
       "book_rating    0\n",
       "dtype: int64"
      ]
     },
     "execution_count": 260,
     "metadata": {},
     "output_type": "execute_result"
    }
   ],
   "source": [
    "from pandas.api.types import is_numeric_dtype\n",
    "ratings.isnull().sum()"
   ]
  },
  {
   "cell_type": "code",
   "execution_count": 261,
   "metadata": {},
   "outputs": [
    {
     "name": "stdout",
     "output_type": "stream",
     "text": [
      "False\n"
     ]
    }
   ],
   "source": [
    "print(is_numeric_dtype(ratings['book_rating']))"
   ]
  },
  {
   "cell_type": "code",
   "execution_count": 262,
   "metadata": {},
   "outputs": [
    {
     "name": "stdout",
     "output_type": "stream",
     "text": [
      "False\n"
     ]
    }
   ],
   "source": [
    "print(is_numeric_dtype(ratings['user_id']))"
   ]
  },
  {
   "cell_type": "code",
   "execution_count": 263,
   "metadata": {},
   "outputs": [
    {
     "name": "stdout",
     "output_type": "stream",
     "text": [
      "True\n"
     ]
    }
   ],
   "source": [
    "ratings['book_rating'] = ratings['book_rating'].astype(int)\n",
    "print(is_numeric_dtype(ratings['book_rating']))"
   ]
  },
  {
   "cell_type": "code",
   "execution_count": 264,
   "metadata": {},
   "outputs": [
    {
     "name": "stdout",
     "output_type": "stream",
     "text": [
      "True\n"
     ]
    }
   ],
   "source": [
    "ratings['user_id'] = ratings['user_id'].astype(int)\n",
    "print(is_numeric_dtype(ratings['user_id']))"
   ]
  },
  {
   "cell_type": "code",
   "execution_count": 265,
   "metadata": {},
   "outputs": [
    {
     "name": "stdout",
     "output_type": "stream",
     "text": [
      "False\n"
     ]
    }
   ],
   "source": [
    "import re\n",
    "isValid = 0\n",
    "k =[]\n",
    "reg = \"[^A-Za-z0-9]\"\n",
    "\n",
    "for x in ratings['isbn']:\n",
    "    z = re.search(reg,x)    \n",
    "    if z:\n",
    "        isValid = 1\n",
    "\n",
    "if isValid == 1:\n",
    "    print(\"False\")\n",
    "else:\n",
    "    print(\"True\")"
   ]
  },
  {
   "cell_type": "code",
   "execution_count": 266,
   "metadata": {},
   "outputs": [],
   "source": [
    "bookISBN = books['ISBN'].tolist() \n",
    "reg = \"[^A-Za-z0-9]\" \n",
    "for index, row_Value in ratings.iterrows():\n",
    "    z = re.search(reg, row_Value['isbn'])    \n",
    "    if z:\n",
    "        f = re.sub(reg,\"\",row_Value['isbn'])\n",
    "        if f in bookISBN:\n",
    "            ratings.at[index , 'isbn'] = f"
   ]
  },
  {
   "cell_type": "code",
   "execution_count": null,
   "metadata": {},
   "outputs": [],
   "source": [
    "ratings['isbn'] = ratings['isbn'].str.upper()"
   ]
  },
  {
   "cell_type": "code",
   "execution_count": null,
   "metadata": {},
   "outputs": [],
   "source": [
    "ratings.drop_duplicates(keep='last', inplace=True)\n",
    "ratings.reset_index(drop=True, inplace=True)"
   ]
  },
  {
   "cell_type": "code",
   "execution_count": null,
   "metadata": {},
   "outputs": [
    {
     "name": "stdout",
     "output_type": "stream",
     "text": [
      "<class 'pandas.core.frame.DataFrame'>\n",
      "RangeIndex: 1149776 entries, 0 to 1149775\n",
      "Data columns (total 3 columns):\n",
      " #   Column       Non-Null Count    Dtype \n",
      "---  ------       --------------    ----- \n",
      " 0   user_id      1149776 non-null  int32 \n",
      " 1   isbn         1149776 non-null  object\n",
      " 2   book_rating  1149776 non-null  int32 \n",
      "dtypes: int32(2), object(1)\n",
      "memory usage: 17.5+ MB\n"
     ]
    }
   ],
   "source": [
    "ratings.info()"
   ]
  },
  {
   "cell_type": "code",
   "execution_count": null,
   "metadata": {},
   "outputs": [
    {
     "data": {
      "text/html": [
       "<div>\n",
       "<style scoped>\n",
       "    .dataframe tbody tr th:only-of-type {\n",
       "        vertical-align: middle;\n",
       "    }\n",
       "\n",
       "    .dataframe tbody tr th {\n",
       "        vertical-align: top;\n",
       "    }\n",
       "\n",
       "    .dataframe thead th {\n",
       "        text-align: right;\n",
       "    }\n",
       "</style>\n",
       "<table border=\"1\" class=\"dataframe\">\n",
       "  <thead>\n",
       "    <tr style=\"text-align: right;\">\n",
       "      <th></th>\n",
       "      <th>user_id</th>\n",
       "      <th>isbn</th>\n",
       "      <th>book_rating</th>\n",
       "    </tr>\n",
       "  </thead>\n",
       "  <tbody>\n",
       "    <tr>\n",
       "      <th>0</th>\n",
       "      <td>276725</td>\n",
       "      <td>034545104X</td>\n",
       "      <td>0</td>\n",
       "    </tr>\n",
       "    <tr>\n",
       "      <th>1</th>\n",
       "      <td>276726</td>\n",
       "      <td>0155061224</td>\n",
       "      <td>5</td>\n",
       "    </tr>\n",
       "    <tr>\n",
       "      <th>2</th>\n",
       "      <td>276727</td>\n",
       "      <td>0446520802</td>\n",
       "      <td>0</td>\n",
       "    </tr>\n",
       "    <tr>\n",
       "      <th>3</th>\n",
       "      <td>276729</td>\n",
       "      <td>052165615X</td>\n",
       "      <td>3</td>\n",
       "    </tr>\n",
       "    <tr>\n",
       "      <th>4</th>\n",
       "      <td>276729</td>\n",
       "      <td>0521795028</td>\n",
       "      <td>6</td>\n",
       "    </tr>\n",
       "  </tbody>\n",
       "</table>\n",
       "</div>"
      ],
      "text/plain": [
       "   user_id        isbn  book_rating\n",
       "0   276725  034545104X            0\n",
       "1   276726  0155061224            5\n",
       "2   276727  0446520802            0\n",
       "3   276729  052165615X            3\n",
       "4   276729  0521795028            6"
      ]
     },
     "execution_count": 194,
     "metadata": {},
     "output_type": "execute_result"
    }
   ],
   "source": [
    "ratings.head()"
   ]
  },
  {
   "cell_type": "code",
   "execution_count": null,
   "metadata": {},
   "outputs": [
    {
     "name": "stdout",
     "output_type": "stream",
     "text": [
      "<class 'pandas.core.frame.DataFrame'>\n",
      "RangeIndex: 278858 entries, 0 to 278857\n",
      "Data columns (total 3 columns):\n",
      " #   Column    Non-Null Count   Dtype \n",
      "---  ------    --------------   ----- \n",
      " 0   User-ID   278858 non-null  object\n",
      " 1   Location  278858 non-null  object\n",
      " 2   Age       168096 non-null  object\n",
      "dtypes: object(3)\n",
      "memory usage: 6.4+ MB\n"
     ]
    }
   ],
   "source": [
    "users.info()"
   ]
  },
  {
   "cell_type": "code",
   "execution_count": null,
   "metadata": {},
   "outputs": [
    {
     "data": {
      "text/html": [
       "<div>\n",
       "<style scoped>\n",
       "    .dataframe tbody tr th:only-of-type {\n",
       "        vertical-align: middle;\n",
       "    }\n",
       "\n",
       "    .dataframe tbody tr th {\n",
       "        vertical-align: top;\n",
       "    }\n",
       "\n",
       "    .dataframe thead th {\n",
       "        text-align: right;\n",
       "    }\n",
       "</style>\n",
       "<table border=\"1\" class=\"dataframe\">\n",
       "  <thead>\n",
       "    <tr style=\"text-align: right;\">\n",
       "      <th></th>\n",
       "      <th>User-ID</th>\n",
       "      <th>Location</th>\n",
       "      <th>Age</th>\n",
       "    </tr>\n",
       "  </thead>\n",
       "  <tbody>\n",
       "    <tr>\n",
       "      <th>0</th>\n",
       "      <td>1</td>\n",
       "      <td>nyc, new york, usa</td>\n",
       "      <td>NaN</td>\n",
       "    </tr>\n",
       "    <tr>\n",
       "      <th>1</th>\n",
       "      <td>2</td>\n",
       "      <td>stockton, california, usa</td>\n",
       "      <td>18.0</td>\n",
       "    </tr>\n",
       "    <tr>\n",
       "      <th>2</th>\n",
       "      <td>3</td>\n",
       "      <td>moscow, yukon territory, russia</td>\n",
       "      <td>NaN</td>\n",
       "    </tr>\n",
       "    <tr>\n",
       "      <th>3</th>\n",
       "      <td>4</td>\n",
       "      <td>porto, v.n.gaia, portugal</td>\n",
       "      <td>17.0</td>\n",
       "    </tr>\n",
       "    <tr>\n",
       "      <th>4</th>\n",
       "      <td>5</td>\n",
       "      <td>farnborough, hants, united kingdom</td>\n",
       "      <td>NaN</td>\n",
       "    </tr>\n",
       "  </tbody>\n",
       "</table>\n",
       "</div>"
      ],
      "text/plain": [
       "  User-ID                            Location   Age\n",
       "0       1                  nyc, new york, usa   NaN\n",
       "1       2           stockton, california, usa  18.0\n",
       "2       3     moscow, yukon territory, russia   NaN\n",
       "3       4           porto, v.n.gaia, portugal  17.0\n",
       "4       5  farnborough, hants, united kingdom   NaN"
      ]
     },
     "execution_count": 196,
     "metadata": {},
     "output_type": "execute_result"
    }
   ],
   "source": [
    "users.head()"
   ]
  },
  {
   "cell_type": "code",
   "execution_count": null,
   "metadata": {},
   "outputs": [
    {
     "data": {
      "text/plain": [
       "(278858, 3)"
      ]
     },
     "execution_count": 197,
     "metadata": {},
     "output_type": "execute_result"
    }
   ],
   "source": [
    "users.shape"
   ]
  },
  {
   "cell_type": "code",
   "execution_count": null,
   "metadata": {},
   "outputs": [
    {
     "data": {
      "text/plain": [
       "array(['nyc, new york, usa', 'stockton, california, usa',\n",
       "       'moscow, yukon territory, russia', ...,\n",
       "       'sergnano, lombardia, italy', 'stranraer, n/a, united kingdom',\n",
       "       'tacoma, washington, united kingdom'], dtype=object)"
      ]
     },
     "execution_count": 198,
     "metadata": {},
     "output_type": "execute_result"
    }
   ],
   "source": [
    "users['Location'].unique()"
   ]
  },
  {
   "cell_type": "code",
   "execution_count": null,
   "metadata": {},
   "outputs": [
    {
     "name": "stdout",
     "output_type": "stream",
     "text": [
      "User-ID          0\n",
      "Location         0\n",
      "Age         110762\n",
      "dtype: int64\n"
     ]
    }
   ],
   "source": [
    "print(users.isna().sum())    "
   ]
  },
  {
   "cell_type": "code",
   "execution_count": null,
   "metadata": {},
   "outputs": [
    {
     "data": {
      "text/plain": [
       "array([ 34.7514337,  18.       ,  17.       ,  61.       ,  26.       ,\n",
       "        14.       ,  25.       ,  19.       ,  46.       ,  55.       ,\n",
       "        32.       ,  24.       ,  20.       ,  34.       ,  23.       ,\n",
       "        51.       ,  31.       ,  21.       ,  44.       ,  30.       ,\n",
       "        57.       ,  43.       ,  37.       ,  41.       ,  54.       ,\n",
       "        42.       ,  50.       ,  39.       ,  53.       ,  47.       ,\n",
       "        36.       ,  28.       ,  35.       ,  13.       ,  58.       ,\n",
       "        49.       ,  38.       ,  45.       ,  62.       ,  63.       ,\n",
       "        27.       ,  33.       ,  29.       ,  66.       ,  40.       ,\n",
       "        15.       ,  60.       ,   0.       ,  79.       ,  22.       ,\n",
       "        16.       ,  65.       ,  59.       ,  48.       ,  72.       ,\n",
       "        56.       ,  67.       ,   1.       ,  80.       ,  52.       ,\n",
       "        69.       ,  71.       ,  73.       ,  78.       ,   9.       ,\n",
       "        64.       , 103.       , 104.       ,  12.       ,  74.       ,\n",
       "        75.       , 231.       ,   3.       ,  76.       ,  83.       ,\n",
       "        68.       , 119.       ,  11.       ,  77.       ,   2.       ,\n",
       "        70.       ,  93.       ,   8.       ,   7.       ,   4.       ,\n",
       "        81.       , 114.       , 230.       , 239.       ,  10.       ,\n",
       "         5.       , 148.       , 151.       ,   6.       , 101.       ,\n",
       "       201.       ,  96.       ,  84.       ,  82.       ,  90.       ,\n",
       "       123.       , 244.       , 133.       ,  91.       , 128.       ,\n",
       "        94.       ,  85.       , 141.       , 110.       ,  97.       ,\n",
       "       219.       ,  86.       , 124.       ,  92.       , 175.       ,\n",
       "       172.       , 209.       , 212.       , 237.       ,  87.       ,\n",
       "       162.       , 100.       , 156.       , 136.       ,  95.       ,\n",
       "        89.       , 106.       ,  99.       , 108.       , 210.       ,\n",
       "        88.       , 199.       , 147.       , 168.       , 132.       ,\n",
       "       159.       , 186.       , 152.       , 102.       , 116.       ,\n",
       "       200.       , 115.       , 226.       , 137.       , 207.       ,\n",
       "       229.       , 138.       , 109.       , 105.       , 228.       ,\n",
       "       183.       , 204.       ,  98.       , 223.       , 113.       ,\n",
       "       208.       , 107.       , 157.       , 111.       , 146.       ,\n",
       "       118.       , 220.       , 143.       , 140.       , 189.       ,\n",
       "       127.       ])"
      ]
     },
     "execution_count": 200,
     "metadata": {},
     "output_type": "execute_result"
    }
   ],
   "source": [
    "users['Age'] = pd.to_numeric(users['Age'], errors='coerce')\n",
    "users['Age'].fillna((users['Age'].mean()), inplace=True)\n",
    "users['Age'].unique()"
   ]
  },
  {
   "cell_type": "code",
   "execution_count": null,
   "metadata": {},
   "outputs": [
    {
     "name": "stdout",
     "output_type": "stream",
     "text": [
      "User-ID     0\n",
      "Location    0\n",
      "Age         0\n",
      "dtype: int64\n"
     ]
    }
   ],
   "source": [
    "print(users.isna().sum())"
   ]
  },
  {
   "cell_type": "code",
   "execution_count": null,
   "metadata": {},
   "outputs": [
    {
     "data": {
      "text/plain": [
       "array(['1', '2', '3', ..., '278856', '278857', '278858'], dtype=object)"
      ]
     },
     "execution_count": 202,
     "metadata": {},
     "output_type": "execute_result"
    }
   ],
   "source": [
    "users['User-ID'].unique()"
   ]
  },
  {
   "cell_type": "code",
   "execution_count": null,
   "metadata": {},
   "outputs": [
    {
     "data": {
      "text/plain": [
       "array([ 34.7514337,  18.       ,  17.       ,  61.       ,  26.       ,\n",
       "        14.       ,  25.       ,  19.       ,  46.       ,  55.       ,\n",
       "        32.       ,  24.       ,  20.       ,  34.       ,  23.       ,\n",
       "        51.       ,  31.       ,  21.       ,  44.       ,  30.       ,\n",
       "        57.       ,  43.       ,  37.       ,  41.       ,  54.       ,\n",
       "        42.       ,  50.       ,  39.       ,  53.       ,  47.       ,\n",
       "        36.       ,  28.       ,  35.       ,  13.       ,  58.       ,\n",
       "        49.       ,  38.       ,  45.       ,  62.       ,  63.       ,\n",
       "        27.       ,  33.       ,  29.       ,  66.       ,  40.       ,\n",
       "        15.       ,  60.       ,   0.       ,  79.       ,  22.       ,\n",
       "        16.       ,  65.       ,  59.       ,  48.       ,  72.       ,\n",
       "        56.       ,  67.       ,   1.       ,  80.       ,  52.       ,\n",
       "        69.       ,  71.       ,  73.       ,  78.       ,   9.       ,\n",
       "        64.       , 103.       , 104.       ,  12.       ,  74.       ,\n",
       "        75.       , 231.       ,   3.       ,  76.       ,  83.       ,\n",
       "        68.       , 119.       ,  11.       ,  77.       ,   2.       ,\n",
       "        70.       ,  93.       ,   8.       ,   7.       ,   4.       ,\n",
       "        81.       , 114.       , 230.       , 239.       ,  10.       ,\n",
       "         5.       , 148.       , 151.       ,   6.       , 101.       ,\n",
       "       201.       ,  96.       ,  84.       ,  82.       ,  90.       ,\n",
       "       123.       , 244.       , 133.       ,  91.       , 128.       ,\n",
       "        94.       ,  85.       , 141.       , 110.       ,  97.       ,\n",
       "       219.       ,  86.       , 124.       ,  92.       , 175.       ,\n",
       "       172.       , 209.       , 212.       , 237.       ,  87.       ,\n",
       "       162.       , 100.       , 156.       , 136.       ,  95.       ,\n",
       "        89.       , 106.       ,  99.       , 108.       , 210.       ,\n",
       "        88.       , 199.       , 147.       , 168.       , 132.       ,\n",
       "       159.       , 186.       , 152.       , 102.       , 116.       ,\n",
       "       200.       , 115.       , 226.       , 137.       , 207.       ,\n",
       "       229.       , 138.       , 109.       , 105.       , 228.       ,\n",
       "       183.       , 204.       ,  98.       , 223.       , 113.       ,\n",
       "       208.       , 107.       , 157.       , 111.       , 146.       ,\n",
       "       118.       , 220.       , 143.       , 140.       , 189.       ,\n",
       "       127.       ])"
      ]
     },
     "execution_count": 203,
     "metadata": {},
     "output_type": "execute_result"
    }
   ],
   "source": [
    "users['Age'].unique()"
   ]
  },
  {
   "cell_type": "code",
   "execution_count": null,
   "metadata": {},
   "outputs": [],
   "source": [
    "users.loc[(users['Age'] > 90) | (users['Age'] < 5)] = np.nan"
   ]
  },
  {
   "cell_type": "code",
   "execution_count": null,
   "metadata": {},
   "outputs": [
    {
     "data": {
      "text/plain": [
       "array([34.7514337 , 18.        , 17.        , 61.        , 26.        ,\n",
       "       14.        , 25.        , 19.        , 46.        , 55.        ,\n",
       "       32.        , 24.        , 20.        , 34.        , 23.        ,\n",
       "       51.        , 31.        , 21.        , 44.        , 30.        ,\n",
       "       57.        , 43.        , 37.        , 41.        , 54.        ,\n",
       "       42.        , 50.        , 39.        , 53.        , 47.        ,\n",
       "       36.        , 28.        , 35.        , 13.        , 58.        ,\n",
       "       49.        , 38.        , 45.        , 62.        , 63.        ,\n",
       "       27.        , 33.        , 29.        , 66.        , 40.        ,\n",
       "       15.        , 60.        , 34.73485224, 79.        , 22.        ,\n",
       "       16.        , 65.        , 59.        , 48.        , 72.        ,\n",
       "       56.        , 67.        , 80.        , 52.        , 69.        ,\n",
       "       71.        , 73.        , 78.        ,  9.        , 64.        ,\n",
       "       12.        , 74.        , 75.        , 76.        , 83.        ,\n",
       "       68.        , 11.        , 77.        , 70.        ,  8.        ,\n",
       "        7.        , 81.        , 10.        ,  5.        ,  6.        ,\n",
       "       84.        , 82.        , 90.        , 85.        , 86.        ,\n",
       "       87.        , 89.        , 88.        ])"
      ]
     },
     "execution_count": 205,
     "metadata": {},
     "output_type": "execute_result"
    }
   ],
   "source": [
    "users['Age'].fillna((users['Age'].mean()), inplace=True)\n",
    "users['Age'].unique()"
   ]
  },
  {
   "cell_type": "code",
   "execution_count": null,
   "metadata": {},
   "outputs": [
    {
     "name": "stdout",
     "output_type": "stream",
     "text": [
      "True\n"
     ]
    }
   ],
   "source": [
    "print(is_numeric_dtype(users['Age']))"
   ]
  },
  {
   "cell_type": "code",
   "execution_count": null,
   "metadata": {},
   "outputs": [
    {
     "data": {
      "text/html": [
       "<div>\n",
       "<style scoped>\n",
       "    .dataframe tbody tr th:only-of-type {\n",
       "        vertical-align: middle;\n",
       "    }\n",
       "\n",
       "    .dataframe tbody tr th {\n",
       "        vertical-align: top;\n",
       "    }\n",
       "\n",
       "    .dataframe thead th {\n",
       "        text-align: right;\n",
       "    }\n",
       "</style>\n",
       "<table border=\"1\" class=\"dataframe\">\n",
       "  <thead>\n",
       "    <tr style=\"text-align: right;\">\n",
       "      <th></th>\n",
       "      <th>User-ID</th>\n",
       "      <th>Location</th>\n",
       "      <th>Age</th>\n",
       "    </tr>\n",
       "  </thead>\n",
       "  <tbody>\n",
       "    <tr>\n",
       "      <th>0</th>\n",
       "      <td>1</td>\n",
       "      <td>nyc, new york, usa</td>\n",
       "      <td>34.751434</td>\n",
       "    </tr>\n",
       "    <tr>\n",
       "      <th>1</th>\n",
       "      <td>2</td>\n",
       "      <td>stockton, california, usa</td>\n",
       "      <td>18.000000</td>\n",
       "    </tr>\n",
       "    <tr>\n",
       "      <th>2</th>\n",
       "      <td>3</td>\n",
       "      <td>moscow, yukon territory, russia</td>\n",
       "      <td>34.751434</td>\n",
       "    </tr>\n",
       "    <tr>\n",
       "      <th>3</th>\n",
       "      <td>4</td>\n",
       "      <td>porto, v.n.gaia, portugal</td>\n",
       "      <td>17.000000</td>\n",
       "    </tr>\n",
       "    <tr>\n",
       "      <th>4</th>\n",
       "      <td>5</td>\n",
       "      <td>farnborough, hants, united kingdom</td>\n",
       "      <td>34.751434</td>\n",
       "    </tr>\n",
       "  </tbody>\n",
       "</table>\n",
       "</div>"
      ],
      "text/plain": [
       "  User-ID                            Location        Age\n",
       "0       1                  nyc, new york, usa  34.751434\n",
       "1       2           stockton, california, usa  18.000000\n",
       "2       3     moscow, yukon territory, russia  34.751434\n",
       "3       4           porto, v.n.gaia, portugal  17.000000\n",
       "4       5  farnborough, hants, united kingdom  34.751434"
      ]
     },
     "execution_count": 207,
     "metadata": {},
     "output_type": "execute_result"
    }
   ],
   "source": [
    "users.head()"
   ]
  },
  {
   "cell_type": "code",
   "execution_count": null,
   "metadata": {},
   "outputs": [
    {
     "name": "stdout",
     "output_type": "stream",
     "text": [
      "<class 'pandas.core.series.Series'>\n"
     ]
    }
   ],
   "source": [
    "#I want to split the location into city, state and country\n",
    "print(type(users['Location']))"
   ]
  },
  {
   "cell_type": "code",
   "execution_count": null,
   "metadata": {},
   "outputs": [
    {
     "name": "stdout",
     "output_type": "stream",
     "text": [
      "       User-ID        Age         City            State         Country\n",
      "0            1  34.751434          nyc         new york             usa\n",
      "1            2  18.000000     stockton       california             usa\n",
      "2            3  34.751434       moscow  yukon territory          russia\n",
      "3            4  17.000000        porto         v.n.gaia        portugal\n",
      "4            5  34.751434  farnborough            hants  united kingdom\n",
      "...        ...        ...          ...              ...             ...\n",
      "278853  278854  34.751434     portland           oregon             usa\n",
      "278854  278855  50.000000       tacoma       washington  united kingdom\n",
      "278855  278856  34.751434     brampton          ontario          canada\n",
      "278856  278857  34.751434    knoxville        tennessee             usa\n",
      "278857  278858  34.751434       dublin              n/a         ireland\n",
      "\n",
      "[278858 rows x 5 columns]\n"
     ]
    }
   ],
   "source": [
    "location_series = users['Location']\n",
    "\n",
    "def split_location(location):\n",
    "    if pd.notna(location):\n",
    "        parts = [part.strip() for part in location.split(',')]\n",
    "        city = parts[0] if len(parts) > 0 else None\n",
    "        state = parts[1] if len(parts) > 1 else None\n",
    "        country = parts[2] if len(parts) > 2 else None\n",
    "        return pd.Series({'City': city, 'State': state, 'Country': country})\n",
    "    else:\n",
    "        return pd.Series({'City': None, 'State': None, 'Country': None})\n",
    "\n",
    "split_location_result = location_series.apply(split_location)\n",
    "\n",
    "users = pd.concat([users, split_location_result], axis=1)\n",
    "\n",
    "users = users.drop('Location', axis=1)\n",
    "\n",
    "print(users)"
   ]
  },
  {
   "cell_type": "code",
   "execution_count": null,
   "metadata": {},
   "outputs": [],
   "source": [
    "users.drop_duplicates(keep='last', inplace=True)\n",
    "users.reset_index(drop=True, inplace=True)\n"
   ]
  },
  {
   "cell_type": "code",
   "execution_count": null,
   "metadata": {},
   "outputs": [
    {
     "name": "stdout",
     "output_type": "stream",
     "text": [
      "<class 'pandas.core.frame.DataFrame'>\n",
      "RangeIndex: 277547 entries, 0 to 277546\n",
      "Data columns (total 5 columns):\n",
      " #   Column   Non-Null Count   Dtype  \n",
      "---  ------   --------------   -----  \n",
      " 0   User-ID  277546 non-null  object \n",
      " 1   Age      277547 non-null  float64\n",
      " 2   City     277546 non-null  object \n",
      " 3   State    277545 non-null  object \n",
      " 4   Country  277544 non-null  object \n",
      "dtypes: float64(1), object(4)\n",
      "memory usage: 10.6+ MB\n"
     ]
    }
   ],
   "source": [
    "users.info()"
   ]
  },
  {
   "cell_type": "code",
   "execution_count": null,
   "metadata": {},
   "outputs": [
    {
     "data": {
      "text/html": [
       "<div>\n",
       "<style scoped>\n",
       "    .dataframe tbody tr th:only-of-type {\n",
       "        vertical-align: middle;\n",
       "    }\n",
       "\n",
       "    .dataframe tbody tr th {\n",
       "        vertical-align: top;\n",
       "    }\n",
       "\n",
       "    .dataframe thead th {\n",
       "        text-align: right;\n",
       "    }\n",
       "</style>\n",
       "<table border=\"1\" class=\"dataframe\">\n",
       "  <thead>\n",
       "    <tr style=\"text-align: right;\">\n",
       "      <th></th>\n",
       "      <th>User-ID</th>\n",
       "      <th>Age</th>\n",
       "      <th>City</th>\n",
       "      <th>State</th>\n",
       "      <th>Country</th>\n",
       "    </tr>\n",
       "  </thead>\n",
       "  <tbody>\n",
       "    <tr>\n",
       "      <th>0</th>\n",
       "      <td>1</td>\n",
       "      <td>34.751434</td>\n",
       "      <td>nyc</td>\n",
       "      <td>new york</td>\n",
       "      <td>usa</td>\n",
       "    </tr>\n",
       "    <tr>\n",
       "      <th>1</th>\n",
       "      <td>2</td>\n",
       "      <td>18.000000</td>\n",
       "      <td>stockton</td>\n",
       "      <td>california</td>\n",
       "      <td>usa</td>\n",
       "    </tr>\n",
       "    <tr>\n",
       "      <th>2</th>\n",
       "      <td>3</td>\n",
       "      <td>34.751434</td>\n",
       "      <td>moscow</td>\n",
       "      <td>yukon territory</td>\n",
       "      <td>russia</td>\n",
       "    </tr>\n",
       "    <tr>\n",
       "      <th>3</th>\n",
       "      <td>4</td>\n",
       "      <td>17.000000</td>\n",
       "      <td>porto</td>\n",
       "      <td>v.n.gaia</td>\n",
       "      <td>portugal</td>\n",
       "    </tr>\n",
       "    <tr>\n",
       "      <th>4</th>\n",
       "      <td>5</td>\n",
       "      <td>34.751434</td>\n",
       "      <td>farnborough</td>\n",
       "      <td>hants</td>\n",
       "      <td>united kingdom</td>\n",
       "    </tr>\n",
       "  </tbody>\n",
       "</table>\n",
       "</div>"
      ],
      "text/plain": [
       "  User-ID        Age         City            State         Country\n",
       "0       1  34.751434          nyc         new york             usa\n",
       "1       2  18.000000     stockton       california             usa\n",
       "2       3  34.751434       moscow  yukon territory          russia\n",
       "3       4  17.000000        porto         v.n.gaia        portugal\n",
       "4       5  34.751434  farnborough            hants  united kingdom"
      ]
     },
     "execution_count": 212,
     "metadata": {},
     "output_type": "execute_result"
    }
   ],
   "source": [
    "users.head()"
   ]
  },
  {
   "cell_type": "code",
   "execution_count": null,
   "metadata": {},
   "outputs": [],
   "source": [
    "users.info()"
   ]
  },
  {
   "cell_type": "code",
   "execution_count": null,
   "metadata": {},
   "outputs": [],
   "source": [
    "users['User-ID'] = users['User-ID'].astype('int32')"
   ]
  },
  {
   "cell_type": "code",
   "execution_count": 225,
   "metadata": {},
   "outputs": [
    {
     "name": "stdout",
     "output_type": "stream",
     "text": [
      "<class 'pandas.core.frame.DataFrame'>\n",
      "RangeIndex: 1031609 entries, 0 to 1031608\n",
      "Data columns (total 11 columns):\n",
      " #   Column               Non-Null Count    Dtype \n",
      "---  ------               --------------    ----- \n",
      " 0   ISBN                 1031609 non-null  object\n",
      " 1   Book-Title           1031609 non-null  object\n",
      " 2   Book-Author          1031609 non-null  object\n",
      " 3   Year-Of-Publication  1031609 non-null  int32 \n",
      " 4   Publisher            1031609 non-null  object\n",
      " 5   Image-URL-S          1031609 non-null  object\n",
      " 6   Image-URL-M          1031609 non-null  object\n",
      " 7   Image-URL-L          1031609 non-null  object\n",
      " 8   user_id              1031609 non-null  int32 \n",
      " 9   isbn                 1031609 non-null  object\n",
      " 10  book_rating          1031609 non-null  int32 \n",
      "dtypes: int32(3), object(8)\n",
      "memory usage: 74.8+ MB\n"
     ]
    }
   ],
   "source": [
    "dataset = pd.merge(books, ratings, left_on='ISBN', right_on='isbn', how='inner')\n",
    "dataset = pd.merge(dataset, users, left_on='user_id', right_on='User-ID', how='inner')\n",
    "dataset.info()"
   ]
  },
  {
   "cell_type": "code",
   "execution_count": 223,
   "metadata": {},
   "outputs": [
    {
     "name": "stdout",
     "output_type": "stream",
     "text": [
      "<class 'pandas.core.frame.DataFrame'>\n",
      "RangeIndex: 277547 entries, 0 to 277546\n",
      "Data columns (total 5 columns):\n",
      " #   Column   Non-Null Count   Dtype  \n",
      "---  ------   --------------   -----  \n",
      " 0   User-ID  277546 non-null  object \n",
      " 1   Age      277547 non-null  float64\n",
      " 2   City     277546 non-null  object \n",
      " 3   State    277545 non-null  object \n",
      " 4   Country  277544 non-null  object \n",
      "dtypes: float64(1), object(4)\n",
      "memory usage: 10.6+ MB\n"
     ]
    }
   ],
   "source": [
    "users.to_csv('../cleaned data/output_file.csv', index=False)\n"
   ]
  },
  {
   "cell_type": "code",
   "execution_count": null,
   "metadata": {},
   "outputs": [],
   "source": []
  }
 ],
 "metadata": {
  "kernelspec": {
   "display_name": "Python 3",
   "language": "python",
   "name": "python3"
  },
  "language_info": {
   "codemirror_mode": {
    "name": "ipython",
    "version": 3
   },
   "file_extension": ".py",
   "mimetype": "text/x-python",
   "name": "python",
   "nbconvert_exporter": "python",
   "pygments_lexer": "ipython3",
   "version": "3.11.5"
  }
 },
 "nbformat": 4,
 "nbformat_minor": 2
}
